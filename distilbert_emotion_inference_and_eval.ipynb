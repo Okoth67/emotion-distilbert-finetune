{
 "cells": [
  {
   "cell_type": "code",
   "execution_count": 8,
   "id": "f6098a01-fca3-4152-879e-f8686afc4c9c",
   "metadata": {},
   "outputs": [
    {
     "name": "stdout",
     "output_type": "stream",
     "text": [
      "C:/Users\\Admin\\emotion-distilbert\\checkpoint-3000\n"
     ]
    }
   ],
   "source": [
    "import os\n",
    "\n",
    "for root, dirs, files in os.walk(\"C:/\"):  # scan your C: drive\n",
    "    for d in dirs:\n",
    "        if \"checkpoint-3000\" in d:\n",
    "            print(os.path.join(root, d))\n"
   ]
  },
  {
   "cell_type": "code",
   "execution_count": 9,
   "id": "6758c828-dff8-4b9c-a03b-fedbc93f9c2f",
   "metadata": {},
   "outputs": [
    {
     "name": "stderr",
     "output_type": "stream",
     "text": [
      "C:\\Users\\Admin\\miniconda3\\envs\\llm-env\\lib\\site-packages\\huggingface_hub\\file_download.py:943: FutureWarning: `resume_download` is deprecated and will be removed in version 1.0.0. Downloads always resume when possible. If you want to force a new download, use `force_download=True`.\n",
      "  warnings.warn(\n"
     ]
    },
    {
     "data": {
      "text/plain": [
       "('./emotion-distilbert\\\\tokenizer_config.json',\n",
       " './emotion-distilbert\\\\special_tokens_map.json',\n",
       " './emotion-distilbert\\\\vocab.txt',\n",
       " './emotion-distilbert\\\\added_tokens.json',\n",
       " './emotion-distilbert\\\\tokenizer.json')"
      ]
     },
     "execution_count": 9,
     "metadata": {},
     "output_type": "execute_result"
    }
   ],
   "source": [
    "#loading the model\n",
    "from transformers import AutoModelForSequenceClassification, AutoTokenizer\n",
    "\n",
    "# Use raw string (r\"...\") to handle backslashes in Windows paths\n",
    "model = AutoModelForSequenceClassification.from_pretrained(\n",
    "    r\"C:/Users/Admin/emotion-distilbert/checkpoint-3000\",\n",
    "    local_files_only=True\n",
    ")\n",
    "\n",
    "#loading tokenizer from base model\n",
    "tokenizer = AutoTokenizer.from_pretrained(\"distilbert-base-uncased\")\n",
    "\n",
    "#saving model and tokenizer to a clean folder\n",
    "model.save_pretrained(\"./emotion-distilbert\")\n",
    "tokenizer.save_pretrained(\"./emotion-distilbert\")"
   ]
  },
  {
   "cell_type": "code",
   "execution_count": 11,
   "id": "ac6ec4fd-f0d8-4c49-9f23-28a224f63303",
   "metadata": {},
   "outputs": [
    {
     "name": "stdout",
     "output_type": "stream",
     "text": [
      "Predicted label: fear\n"
     ]
    }
   ],
   "source": [
    "from transformers import AutoModelForSequenceClassification, AutoTokenizer\n",
    "import torch\n",
    "\n",
    "#loading the model and tokenizer\n",
    "model = AutoModelForSequenceClassification.from_pretrained(\"./emotion-distilbert\")\n",
    "tokenizer = AutoTokenizer.from_pretrained(\"./emotion-distilbert\")\n",
    "\n",
    "#new prompts\n",
    "text = \"I am scared\"\n",
    "inputs = tokenizer(text, return_tensors=\"pt\", truncation=True)\n",
    "with torch.no_grad():\n",
    "    logits = model(**inputs).logits\n",
    "\n",
    "#getting predicted label index\n",
    "predicted_class_id = logits.argmax().item()\n",
    "\n",
    "# You can define the label mapping manually (based on your original dataset)\n",
    "label_map = {\n",
    "    0: \"sadness\",\n",
    "    1: \"joy\",\n",
    "    2: \"love\",\n",
    "    3: \"anger\",\n",
    "    4: \"fear\",\n",
    "    5: \"surprise\"\n",
    "}\n",
    "\n",
    "print(\"Predicted label:\", label_map[predicted_class_id])\n"
   ]
  },
  {
   "cell_type": "code",
   "execution_count": 12,
   "id": "86a50754-c1a5-452a-ab60-8b2fe0ce0c2b",
   "metadata": {},
   "outputs": [
    {
     "name": "stdout",
     "output_type": "stream",
     "text": [
      "* Running on local URL:  http://127.0.0.1:7860\n",
      "* To create a public link, set `share=True` in `launch()`.\n"
     ]
    },
    {
     "data": {
      "text/html": [
       "<div><iframe src=\"http://127.0.0.1:7860/\" width=\"100%\" height=\"500\" allow=\"autoplay; camera; microphone; clipboard-read; clipboard-write;\" frameborder=\"0\" allowfullscreen></iframe></div>"
      ],
      "text/plain": [
       "<IPython.core.display.HTML object>"
      ]
     },
     "metadata": {},
     "output_type": "display_data"
    },
    {
     "data": {
      "text/plain": []
     },
     "execution_count": 12,
     "metadata": {},
     "output_type": "execute_result"
    }
   ],
   "source": [
    "import gradio as gr\n",
    "\n",
    "def classify_emotion(text):\n",
    "    inputs = tokenizer(text, return_tensors=\"pt\", truncation=True)\n",
    "    with torch.no_grad():\n",
    "        logits = model(**inputs).logits\n",
    "    predicted_id = logits.argmax().item()\n",
    "    return label_map[predicted_id]\n",
    "\n",
    "# Launch app\n",
    "gr.Interface(fn=classify_emotion, inputs=\"text\", outputs=\"text\", title=\"Emotion Classifier\").launch()\n"
   ]
  },
  {
   "cell_type": "code",
   "execution_count": null,
   "id": "73d8e201-6931-4214-94aa-ce7ef6f5def5",
   "metadata": {},
   "outputs": [],
   "source": []
  }
 ],
 "metadata": {
  "kernelspec": {
   "display_name": "Python 3 (ipykernel)",
   "language": "python",
   "name": "python3"
  },
  "language_info": {
   "codemirror_mode": {
    "name": "ipython",
    "version": 3
   },
   "file_extension": ".py",
   "mimetype": "text/x-python",
   "name": "python",
   "nbconvert_exporter": "python",
   "pygments_lexer": "ipython3",
   "version": "3.10.16"
  }
 },
 "nbformat": 4,
 "nbformat_minor": 5
}
